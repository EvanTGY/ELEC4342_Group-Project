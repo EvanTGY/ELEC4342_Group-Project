{
 "cells": [
  {
   "cell_type": "code",
   "execution_count": null,
   "metadata": {},
   "outputs": [],
   "source": [
    "# import libraries\n",
    "import torch\n",
    "import os\n",
    "import pandas\n",
    "import torchvision\n",
    "import matplotlib.pyplot as plt\n",
    "import torch.nn as nn\n",
    "import torch.optim as optim\n",
    "from PIL import Image\n",
    "from torchvision import datasets, transforms\n",
    "from torch.utils.data.sampler import SubsetRandomSampler\n",
    "from torch.utils.data.dataset import Dataset\n",
    "from torchvision.models import resnet50\n",
    "from torchvision.models.resnet import ResNet50_Weights"
   ]
  },
  {
   "cell_type": "code",
   "execution_count": null,
   "metadata": {},
   "outputs": [],
   "source": [
    "# define the super parameters\n",
    "batch_size = 64\n",
    "device = torch.device('cuda' if torch.cuda.is_available() else 'cpu')\n"
   ]
  },
  {
   "cell_type": "code",
   "execution_count": null,
   "metadata": {},
   "outputs": [],
   "source": [
    "# define SaveImagesToCSV Class\n",
    "class SaveImagesToCSV:\n",
    "    def __init__(self,root=\"./data\", train = True, transforms=None):\n",
    "        self.root = root\n",
    "        self.pre = \"/train_set/\" if train else \"/test_set/\"\n",
    "        self.count = 0\n",
    "        self.labels = []\n",
    "        self.data = []\n",
    "        self.nums = [4468, 4381, 4254] if train else [865, 899, 878]\n",
    "        self.names = [\"O/\",\"V/\",\"W/\"]\n",
    "        self.transforms = transforms\n",
    "        for i in range(3):\n",
    "            name = self.names[i]\n",
    "            for j in range(self.nums[i]):\n",
    "                self.data.append(self.root+self.pre+name+str(j)+\".jpg\")\n",
    "                self.labels.append(i)\n",
    "                self.count += 1\n",
    "        \n",
    "        df = pandas.DataFrame({'image_path': self.data, 'label': self.labels})\n",
    "        if train:\n",
    "            df.to_csv('./data/train_set/train_images.csv', index=False)\n",
    "        else:\n",
    "            df.to_csv('./data/test_set/test_images.csv', index=False)\n",
    "    "
   ]
  },
  {
   "cell_type": "code",
   "execution_count": null,
   "metadata": {},
   "outputs": [],
   "source": [
    "# def DataLoader class\n",
    "class Dataset(Dataset):\n",
    "    def __init__(self, csv_file, transforms = None):\n",
    "        if not os.path.exists(csv_file):\n",
    "            print('CSV file not found')\n",
    "            return\n",
    "        self.dataframe = pandas.read_csv(csv_file)\n",
    "        self.transform = transforms\n",
    "\n",
    "    def __len__(self):\n",
    "        return len(self.dataframe)\n",
    "    \n",
    "    def __getitem__(self, idx):\n",
    "        image_path = self.dataframe.iloc[idx, 0]\n",
    "        image = Image.open(image_path)\n",
    "        if self.transform:\n",
    "            image = self.transform(image)\n",
    "        label = self.dataframe.iloc[idx, 1]\n",
    "        return image, label"
   ]
  },
  {
   "cell_type": "code",
   "execution_count": null,
   "metadata": {},
   "outputs": [],
   "source": [
    "# define the loss function\n",
    "criterion = nn.CrossEntropyLoss()"
   ]
  },
  {
   "cell_type": "code",
   "execution_count": null,
   "metadata": {},
   "outputs": [],
   "source": [
    "# define the train function\n",
    "def train(model, device, train_loader, optimizer,epoch):\n",
    "    model.train()\n",
    "    train_loss = 0\n",
    "    for (data, target) in train_loader:\n",
    "        data, target = data.to(device), target.to(device)\n",
    "        optimizer.zero_grad()\n",
    "        output = model(data)\n",
    "        loss = criterion(output, target)\n",
    "        loss.backward()\n",
    "        optimizer.step()\n",
    "        train_loss += loss.item()\n",
    "        \n",
    "        torch.cuda.empty_cache()\n",
    "\n",
    "    train_loss /= len(train_loader.dataset)\n",
    "    print ('Epoch: {}'.format(epoch))\n",
    "    print('Average train Loss: {:.6f}'.format(train_loss))"
   ]
  },
  {
   "cell_type": "code",
   "execution_count": null,
   "metadata": {},
   "outputs": [],
   "source": [
    "# define test function\n",
    "def test(model, device, test_loader):\n",
    "    model.eval()\n",
    "    model.to(device)\n",
    "    test_loss = 0\n",
    "    correct = 0\n",
    "    image_counter = 0\n",
    "\n",
    "    classes = ['Rock','Scissors','Paper']\n",
    "\n",
    "    with torch.no_grad():\n",
    "        for data, target in test_loader:\n",
    "            data, target = data.to(device), target.to(device)\n",
    "            output = model(data)\n",
    "            test_loss += criterion(output, target).item()\n",
    "            predict = output.argmax(dim=1, keepdim=True)\n",
    "            correct += predict.eq(target.view_as(predict)).sum().item()\n",
    "\n",
    "            fig, axs = plt.subplots(2, 3, figsize=(9, 6))\n",
    "            \n",
    "            # 显示图像和预测结果\n",
    "            for i in range(data.size(0)):\n",
    "                if image_counter >= 6:\n",
    "                    break\n",
    "                image = data[i].cpu().numpy().transpose((1, 2, 0))\n",
    "                row = image_counter // 3  # 计算子图的行索引\n",
    "                col = image_counter % 3  # 计算子图的列索引\n",
    "                axs[row, col].imshow(image, cmap='gray')\n",
    "                axs[row, col].set_title('Predicted: {}'.format(classes[predict[i].item()]))\n",
    "                axs[row, col].axis('off')  # 隐藏坐标轴\n",
    "                image_counter += 1\n",
    "\n",
    "            # 显示图形\n",
    "            plt.tight_layout()\n",
    "            plt.show()\n",
    "                \n",
    "    test_loss /= len(test_loader.dataset)\n",
    "    accuracy = 100. * correct / len(test_loader.dataset)\n",
    "    print('Average test Loss: {:.6f}'.format(test_loss))\n",
    "    print('Accuracy: {}/{} ({:.2f}%)'.format(correct, len(test_loader.dataset), accuracy))\n",
    "    return test_loss, accuracy"
   ]
  },
  {
   "cell_type": "code",
   "execution_count": null,
   "metadata": {},
   "outputs": [],
   "source": [
    "# define the transform\n",
    "transformations= transforms.Compose([\n",
    "    transforms.Resize((227,227)),\n",
    "    transforms.RandomRotation(180),\n",
    "    transforms.ToTensor(), \n",
    "    transforms.Normalize((0.1307,), (0.3081,))\n",
    "])"
   ]
  },
  {
   "cell_type": "code",
   "execution_count": null,
   "metadata": {},
   "outputs": [],
   "source": [
    "# save the images to csv\n",
    "save_train_images = SaveImagesToCSV(root=\"./data\", train=True)\n",
    "save_test_images = SaveImagesToCSV(root=\"./data\", train=False)\n"
   ]
  },
  {
   "cell_type": "code",
   "execution_count": null,
   "metadata": {},
   "outputs": [],
   "source": [
    "# 加load train and test dataset\n",
    "train_dataset = Dataset(csv_file='./data/train_set/train_images.csv', transforms=transformations)\n",
    "test_dataset = Dataset(csv_file=\"./data/test_set/test_images.csv\", transforms=transformations)"
   ]
  },
  {
   "cell_type": "code",
   "execution_count": null,
   "metadata": {},
   "outputs": [],
   "source": [
    "# create the data loaders\n",
    "train_loader = torch.utils.data.DataLoader(train_dataset, batch_size=batch_size, shuffle=True)\n",
    "test_loader = torch.utils.data.DataLoader(test_dataset, batch_size=batch_size, shuffle=True)"
   ]
  },
  {
   "cell_type": "code",
   "execution_count": null,
   "metadata": {},
   "outputs": [],
   "source": [
    "# create the model and modify the last layer\n",
    "model = resnet50(weights=ResNet50_Weights.IMAGENET1K_V1)\n",
    "num_ftrs = model.fc.in_features\n",
    "model.fc = nn.Linear(num_ftrs, 3)\n"
   ]
  },
  {
   "cell_type": "code",
   "execution_count": null,
   "metadata": {},
   "outputs": [],
   "source": [
    "# move the model to the GPU device\n",
    "model = model.to(device)\n",
    "\n",
    "# define the optimizer\n",
    "optimizer = optim.SGD(model.parameters(), lr=0.001)"
   ]
  },
  {
   "cell_type": "code",
   "execution_count": null,
   "metadata": {},
   "outputs": [],
   "source": [
    "# define the variables to store the lower test loss \n",
    "lowerst_test_loss = float('inf')\n",
    "\n",
    "# train the model\n",
    "for epoch in range(1, 10):\n",
    "    train_loss = train(model, device, train_loader, optimizer, epoch)\n",
    "    test_loss, accuracy = test(model, device, test_loader)\n",
    "    if test_loss < lowerst_test_loss:\n",
    "            lowerst_test_loss = test_loss\n",
    "            torch.save(model.state_dict(), 'Trained_Models/model_ResNet50_best.pth')\n",
    "            print('Model saved')\n",
    "            print('Model saved with test loss: {:.6f}'.format(test_loss))\n",
    "            print('Model saved with accuracy: {:.2f}%'.format(accuracy))\n",
    "            print()"
   ]
  },
  {
   "cell_type": "code",
   "execution_count": null,
   "metadata": {},
   "outputs": [],
   "source": [
    "# print the model weights\n",
    "weights = torch.load('Trained_Models/model_ResNet50_best.pth')# 打印模型权重\n",
    "for name, param in weights.items():\n",
    "    print('Layer: ', name)\n",
    "    print('Size: ', param.size())\n",
    "    print('\\n')"
   ]
  }
 ],
 "metadata": {
  "kernelspec": {
   "display_name": "TGY",
   "language": "python",
   "name": "python3"
  },
  "language_info": {
   "codemirror_mode": {
    "name": "ipython",
    "version": 3
   },
   "file_extension": ".py",
   "mimetype": "text/x-python",
   "name": "python",
   "nbconvert_exporter": "python",
   "pygments_lexer": "ipython3",
   "version": "3.11.9"
  }
 },
 "nbformat": 4,
 "nbformat_minor": 2
}
